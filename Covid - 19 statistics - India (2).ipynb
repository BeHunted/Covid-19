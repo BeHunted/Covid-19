{
 "cells": [
  {
   "cell_type": "markdown",
   "metadata": {},
   "source": [
    "# Covid - 19 statistics in india\n",
    "**So what is Covid-19?**\n",
    "Coronavirus disease 2019 (COVID-19) is an infectious disease caused by severe acute respiratory syndrome coronavirus 2 (SARS-CoV-2). The disease was first identified in December 2019 in Wuhan, the capital of China's Hubei province, and has since spread globally, resulting in the ongoing 2019–20 coronavirus pandemic. Common symptoms include fever, cough and shortness of breath. Other symptoms may include fatigue, muscle pain, diarrhea, sore throat, loss of smell and abdominal pain. The time from exposure to onset of symptoms is typically around five days, but may range from two to 14 days. While the majority of cases result in mild symptoms, some progress to viral pneumonia and multi-organ failure. As of 9 April 2020, more than 1.48 million cases have been reported in more than 200 countries and territories,[16] resulting in more than 88,600 deaths. More than 331,000 people have recovered.\n",
    "Source: Wikipedia"
   ]
  },
  {
   "cell_type": "markdown",
   "metadata": {},
   "source": [
    "# What am I going to see?\n",
    "I have visualized the data of Covid - 19 in from of tables, pie charts, tremaps, bar graphs etc. to give everyone in the country an idea about the coronavirus disease. This data is going to be automatically updated. If you like and appreciate my hard work please leave a comment below. To know more about yor state, double - click on your state in the state - wise graphs"
   ]
  },
  {
   "cell_type": "markdown",
   "metadata": {},
   "source": [
    "# Timeline of Covid - 19 in India"
   ]
  },
  {
   "cell_type": "code",
   "execution_count": 1,
   "metadata": {
    "_cell_guid": "87c77653-62a9-49b6-90ef-12b3e5f175e2",
    "_uuid": "9bdc8253-c776-461a-8132-a18ffeef47a9"
   },
   "outputs": [
    {
     "data": {
      "text/html": [
       "<div class=\"flourish-embed flourish-cards\" data-src=\"visualisation/1786965\" data-url=\"https://flo.uri.sh/visualisation/1786965/embed\"><script src=\"https://public.flourish.studio/resources/embed.js\"></script></div>"
      ],
      "text/plain": [
       "<IPython.core.display.HTML object>"
      ]
     },
     "execution_count": 1,
     "metadata": {},
     "output_type": "execute_result"
    }
   ],
   "source": [
    "from IPython.core.display import HTML\n",
    "HTML('''<div class=\"flourish-embed flourish-cards\" data-src=\"visualisation/1786965\" data-url=\"https://flo.uri.sh/visualisation/1786965/embed\"><script src=\"https://public.flourish.studio/resources/embed.js\"></script></div>''')"
   ]
  },
  {
   "cell_type": "markdown",
   "metadata": {},
   "source": [
    "# Libraries"
   ]
  },
  {
   "cell_type": "code",
   "execution_count": 2,
   "metadata": {
    "_cell_guid": "4fbe8c85-3893-4432-a88e-057ebe259570",
    "_uuid": "6b395608-3e32-40c0-bbd7-62509d9bd3e9"
   },
   "outputs": [
    {
     "ename": "ModuleNotFoundError",
     "evalue": "No module named 'geopandas'",
     "output_type": "error",
     "traceback": [
      "\u001b[1;31m---------------------------------------------------------------------------\u001b[0m",
      "\u001b[1;31mModuleNotFoundError\u001b[0m                       Traceback (most recent call last)",
      "\u001b[1;32m<ipython-input-2-51a474e0de56>\u001b[0m in \u001b[0;36m<module>\u001b[1;34m\u001b[0m\n\u001b[0;32m      5\u001b[0m \u001b[1;32mimport\u001b[0m \u001b[0mnumpy\u001b[0m \u001b[1;32mas\u001b[0m \u001b[0mnp\u001b[0m\u001b[1;33m\u001b[0m\u001b[1;33m\u001b[0m\u001b[0m\n\u001b[0;32m      6\u001b[0m \u001b[1;32mimport\u001b[0m \u001b[0mpandas\u001b[0m \u001b[1;32mas\u001b[0m \u001b[0mpd\u001b[0m\u001b[1;33m\u001b[0m\u001b[1;33m\u001b[0m\u001b[0m\n\u001b[1;32m----> 7\u001b[1;33m \u001b[1;32mimport\u001b[0m \u001b[0mgeopandas\u001b[0m \u001b[1;32mas\u001b[0m \u001b[0mgpd\u001b[0m\u001b[1;33m\u001b[0m\u001b[1;33m\u001b[0m\u001b[0m\n\u001b[0m\u001b[0;32m      8\u001b[0m \u001b[1;33m\u001b[0m\u001b[0m\n\u001b[0;32m      9\u001b[0m \u001b[1;32mimport\u001b[0m \u001b[0mmatplotlib\u001b[0m\u001b[1;33m.\u001b[0m\u001b[0mpyplot\u001b[0m \u001b[1;32mas\u001b[0m \u001b[0mplt\u001b[0m\u001b[1;33m\u001b[0m\u001b[1;33m\u001b[0m\u001b[0m\n",
      "\u001b[1;31mModuleNotFoundError\u001b[0m: No module named 'geopandas'"
     ]
    }
   ],
   "source": [
    "import json\n",
    "from datetime import timedelta\n",
    "from urllib.request import urlopen\n",
    "\n",
    "import numpy as np\n",
    "import pandas as pd\n",
    "import geopandas as gpd\n",
    "\n",
    "import matplotlib.pyplot as plt\n",
    "import seaborn as sns\n",
    "import plotly.express as px\n",
    "import plotly.graph_objects as go\n",
    "from plotly.subplots import make_subplots\n",
    "import folium\n",
    "\n",
    "cnf = '#393e46'\n",
    "dth = '#ff2e63'\n",
    "rec = '#21bf73'\n",
    "act = '#fe9801'\n",
    "\n",
    "from pandas.plotting import register_matplotlib_converters\n",
    "register_matplotlib_converters()"
   ]
  },
  {
   "cell_type": "code",
   "execution_count": null,
   "metadata": {
    "_cell_guid": "edcfdd75-31f5-42d5-947b-42990087c5b3",
    "_uuid": "2c8c2a71-7284-4244-8aad-b447b19d1fdf"
   },
   "outputs": [],
   "source": [
    "from plotly.offline import plot, iplot, init_notebook_mode\n",
    "init_notebook_mode(connected = True)"
   ]
  },
  {
   "cell_type": "markdown",
   "metadata": {},
   "source": [
    "# Dataset"
   ]
  },
  {
   "cell_type": "code",
   "execution_count": null,
   "metadata": {
    "_cell_guid": "0feafb6d-55e1-4e1c-8338-e93a50974925",
    "_uuid": "f18c5a91-3194-41e4-8c08-7c23a447bad2"
   },
   "outputs": [],
   "source": [
    "! ls ../input/covid19-corona-virus-india-dataset"
   ]
  },
  {
   "cell_type": "code",
   "execution_count": null,
   "metadata": {
    "_cell_guid": "97f7c5d5-b62e-479f-acb5-e56dd1db5ec0",
    "_uuid": "5085c234-14b2-400b-b9af-fbd617a23169"
   },
   "outputs": [],
   "source": [
    "# importing datasets\n",
    "df = pd.read_csv('../input/covid19-corona-virus-india-dataset/complete.csv', parse_dates=['Date'])\n",
    "df['Name of State / UT'] = df['Name of State / UT'].str.replace('Union Territory of ', '')\n",
    "df.head()"
   ]
  },
  {
   "cell_type": "code",
   "execution_count": null,
   "metadata": {
    "_cell_guid": "034c1cf5-0cf9-49c4-9ce8-6b5dd570658e",
    "_uuid": "47f2d29f-b979-4600-b20e-16442eb77cad"
   },
   "outputs": [],
   "source": [
    "df.columns"
   ]
  },
  {
   "cell_type": "markdown",
   "metadata": {},
   "source": [
    "# Preprocessing"
   ]
  },
  {
   "cell_type": "markdown",
   "metadata": {},
   "source": [
    "### Cleaning"
   ]
  },
  {
   "cell_type": "code",
   "execution_count": null,
   "metadata": {
    "_cell_guid": "9bad1881-dd95-4eff-825a-e533d3f450ec",
    "_uuid": "69d9e227-7131-4065-9391-ca6c97686d61"
   },
   "outputs": [],
   "source": [
    "df = df[['Date', 'Name of State / UT', 'Latitude', 'Longitude', 'Total Confirmed cases', 'Death', 'Cured/Discharged/Migrated']]\n",
    "df.columns = ['Date', 'State/UT', 'Latitude', 'Longitude', 'Confirmed', 'Deaths', 'Cured']\n",
    "\n",
    "for i in ['Confirmed', 'Deaths', 'Cured']:\n",
    "    df[i] = df[i].astype('int')\n",
    "    \n",
    "df['Active'] = df['Confirmed'] - df['Deaths'] - df['Cured']\n",
    "df['Mortality rate'] = df['Deaths']/df['Confirmed']\n",
    "df['Recovery rate'] = df['Cured']/df['Confirmed']\n",
    "\n",
    "df = df[['Date', 'State/UT', 'Latitude', 'Longitude', 'Confirmed', 'Active', 'Deaths', 'Mortality rate', 'Cured', 'Recovery rate']]\n",
    "\n",
    "df"
   ]
  },
  {
   "cell_type": "markdown",
   "metadata": {},
   "source": [
    "### Derived Tables"
   ]
  },
  {
   "cell_type": "code",
   "execution_count": null,
   "metadata": {
    "_cell_guid": "d425f0b9-d44e-4e3a-a10a-a1d7f6e9dd55",
    "_uuid": "d061b012-3fdf-48eb-b4ee-7ba8aed9f104"
   },
   "outputs": [],
   "source": [
    "latest = df[df['Date']==max(df['Date'])]\n",
    "\n",
    "# days\n",
    "latest_day = max(df['Date'])\n",
    "day_before = latest_day - timedelta(days = 1)\n",
    "\n",
    "# state and total cases \n",
    "latest_day_df = df[df['Date']==latest_day].set_index('State/UT')\n",
    "day_before_df = df[df['Date']==day_before].set_index('State/UT')\n",
    "\n",
    "temp = pd.merge(left = latest_day_df, right = day_before_df, on='State/UT', suffixes=('_lat', '_bfr'), how='outer')\n",
    "latest_day_df['New cases'] = temp['Confirmed_lat'] - temp['Confirmed_bfr']\n",
    "latest = latest_day_df.reset_index()"
   ]
  },
  {
   "cell_type": "code",
   "execution_count": null,
   "metadata": {
    "_cell_guid": "396f2f73-ffe1-447d-b99c-93a4ee92d18f",
    "_uuid": "8f1aaee7-38e0-4933-9198-4518df7e3209"
   },
   "outputs": [],
   "source": [
    "print(latest_day, day_before)\n"
   ]
  },
  {
   "cell_type": "markdown",
   "metadata": {},
   "source": [
    "# Table"
   ]
  },
  {
   "cell_type": "code",
   "execution_count": null,
   "metadata": {
    "_cell_guid": "383019ed-7b6d-42a8-9b32-f79a85cc37b0",
    "_uuid": "47132bb8-98fe-4eae-8513-7805e27d576d"
   },
   "outputs": [],
   "source": [
    "temp = latest[['State/UT', 'Confirmed', 'Active', 'New cases', 'Deaths', 'Mortality rate',\n",
    "              'Cured', 'Recovery rate']]\n",
    "temp = temp.sort_values('Confirmed', ascending = False).reset_index(drop = True)\n",
    "\n",
    "temp.style\\\n",
    "    .background_gradient(cmap=\"Blues\", subset=['Confirmed', 'Active', 'New cases'])\\\n",
    "    .background_gradient(cmap=\"Greens\", subset=['Cured', 'Recovery rate'])\\\n",
    "    .background_gradient(cmap=\"Reds\", subset=['Deaths', 'Mortality rate'])"
   ]
  },
  {
   "cell_type": "markdown",
   "metadata": {},
   "source": [
    "# Visualization of data of the country"
   ]
  },
  {
   "cell_type": "code",
   "execution_count": null,
   "metadata": {
    "_cell_guid": "7f4ae717-5522-4922-971e-b07445c11d94",
    "_uuid": "bedf311d-d19e-423e-b710-5965c60078ff"
   },
   "outputs": [],
   "source": [
    "fig = make_subplots(rows=1, cols=2, shared_xaxes=False, column_widths=[0.4, 0.6],\n",
    "                    subplot_titles = ['Latest stats', 'Over the time'],\n",
    "                    specs=[[{\"type\": \"treemap\"}, {\"type\": \"bar\"}]])\n",
    "\n",
    "tm = temp.melt(id_vars=\"Date\", value_vars=['Active', 'Deaths', 'Cured'])\n",
    "fig_1 = px.treemap(tm, path=[\"variable\"], values=\"value\", height=540, width=800,\n",
    "                 color_discrete_sequence=[rec, act, dth])\n",
    "fig_1.data[0].textinfo = 'label+text+value'\n",
    "fig.add_trace(fig_1['data'][0], row=1, col=1)\n",
    "\n",
    "# fig.add_trace(go.Treemap(labels = tm['variable'], values = tm['value']),1,1)\n",
    "\n",
    "temp = df.groupby('Date')['Active', 'Deaths', 'Cured'].sum().reset_index()\n",
    "fig.add_trace(go.Bar(x=temp['Date'], y=temp['Active'], name='Active', marker_color=act), row=1, col=2)\n",
    "fig.add_trace(go.Bar(x=temp['Date'], y=temp['Deaths'], name='Deaths', marker_color=dth), row=1, col=2)\n",
    "fig.add_trace(go.Bar(x=temp['Date'], y=temp['Cured'], name='Cured', marker_color=rec), row=1, col=2)\n",
    "\n",
    "fig.update_layout(barmode='stack')\n",
    "fig.update_layout(treemapcolorway = [act, rec, dth])\n",
    "fig.show()"
   ]
  },
  {
   "cell_type": "markdown",
   "metadata": {},
   "source": [
    "# Map"
   ]
  },
  {
   "cell_type": "code",
   "execution_count": null,
   "metadata": {
    "_cell_guid": "7599e993-022c-4164-8364-bb750080f5be",
    "_uuid": "42f82604-f91a-4b8c-8327-dbc0d405b466"
   },
   "outputs": [],
   "source": [
    "m = folium.Map(location = [20.5937, 78.9629], tiles = 'cartodbpositron',\n",
    "              min_zoom = 4, max_zoom = 6, zoom_start = 4)\n",
    "\n",
    "for i in range(0, len(latest)):\n",
    "    if latest.iloc[i]['Confirmed'] > 0:\n",
    "        folium.Circle(\n",
    "            location = [latest.iloc[i]['Latitude'], latest.iloc[i]\n",
    "                       ['Longitude']],\n",
    "            color = '#e84545',\n",
    "            fill = '#e84545',\n",
    "            tooltip = '<li><bold>Name of Sate / UT :' + str(latest.iloc[i]\n",
    "                        ['State/UT']) + \n",
    "                        '<li><bold>Confirmed cases :' + str(latest.iloc[i]\n",
    "                        ['Confirmed']),\n",
    "            radius = int(latest.iloc[i]['Confirmed'])*300\n",
    "        ).add_to(m)\n",
    "m"
   ]
  },
  {
   "cell_type": "markdown",
   "metadata": {},
   "source": [
    "# Race map"
   ]
  },
  {
   "cell_type": "code",
   "execution_count": null,
   "metadata": {
    "_cell_guid": "717b64c4-9ff3-46f6-be87-c00bcbec0a60",
    "_uuid": "861a903c-0485-49e7-8ec2-d6b08e6b0979"
   },
   "outputs": [],
   "source": [
    "from plotly.offline import init_notebook_mode\n",
    "import plotly.graph_objs as go\n",
    "init_notebook_mode(connected=True)\n",
    "\n",
    "temp = df.copy()\n",
    "temp['Date'] = temp['Date'].dt.strftime('%Y/%m/%d')\n",
    "\n",
    "fig = px.scatter_geo(temp, lat=\"Latitude\", lon=\"Longitude\", color='Confirmed', size='Confirmed', projection=\"natural earth\",\n",
    "                     hover_name=\"State/UT\", scope='asia', animation_frame=\"Date\", center={'lat':20, 'lon':78}, \n",
    "                     range_color=[0, max(temp['Confirmed'])])\n",
    "fig.show()"
   ]
  },
  {
   "cell_type": "markdown",
   "metadata": {},
   "source": [
    "# Visualized state and union territory wise report"
   ]
  },
  {
   "cell_type": "markdown",
   "metadata": {},
   "source": [
    "### Bar graph comparison for total number of cases"
   ]
  },
  {
   "cell_type": "code",
   "execution_count": null,
   "metadata": {
    "_cell_guid": "ee2ff64f-94e4-4096-ab6d-59d0e089f407",
    "_uuid": "10993d58-a63b-4557-ba73-35cf2256936a"
   },
   "outputs": [],
   "source": [
    "temp = latest.sort_values('Confirmed', ascending=False)\n",
    "state_order = temp['State/UT']\n",
    "\n",
    "fig = px.bar(temp, \n",
    "             x=\"Confirmed\", y=\"State/UT\", color='State/UT', title='Confirmed',\n",
    "             orientation='h', text='Confirmed', height=len(temp)*35,\n",
    "             color_discrete_sequence = px.colors.qualitative.Vivid)\n",
    "fig.show()"
   ]
  },
  {
   "cell_type": "markdown",
   "metadata": {},
   "source": [
    "### Deaths vs Recovered"
   ]
  },
  {
   "cell_type": "code",
   "execution_count": null,
   "metadata": {
    "_cell_guid": "2bc98bb9-328a-4074-bc13-8fd2c1d2ae7f",
    "_uuid": "a9d8094f-9c63-49c8-adb7-5c50045bf22d"
   },
   "outputs": [],
   "source": [
    "temp = latest[latest['Deaths']>0].sort_values('Deaths')\n",
    "fig_d = px.bar(temp, y=\"State/UT\", x=\"Deaths\", orientation='h', title='Deaths', color_discrete_sequence = ['#ff2e63'], text='Deaths', height=len(temp)*40)\n",
    "\n",
    "temp = latest[latest['Cured']>0].sort_values('Cured')\n",
    "fig_r = px.bar(temp, y=\"State/UT\", x=\"Cured\", orientation='h', title='Cured', color_discrete_sequence = ['#2c786c'], text='Cured', height=len(temp)*40)\n",
    "\n",
    "fig = make_subplots(rows=1, cols=2, shared_xaxes=False, horizontal_spacing=0.2, subplot_titles=(\"Deaths\", \"Recovered\"))\n",
    "fig.add_trace(fig_d['data'][0], row=1, col=1)\n",
    "fig.add_trace(fig_r['data'][0], row=1, col=2)\n",
    "fig.update_layout(height=800)\n",
    "fig.show()"
   ]
  },
  {
   "cell_type": "markdown",
   "metadata": {},
   "source": [
    "### Sate wise case over time"
   ]
  },
  {
   "cell_type": "code",
   "execution_count": null,
   "metadata": {
    "_cell_guid": "80b45bdb-727e-4770-8621-8008d65f9e90",
    "_uuid": "762eed40-f646-49d0-bd20-6cc303feadde"
   },
   "outputs": [],
   "source": [
    "fig = px.bar(df.sort_values('Confirmed', ascending=False), x=\"Date\", y=\"Confirmed\", color='State/UT', title='State wise cases over time',\n",
    "             color_discrete_sequence = px.colors.qualitative.Vivid)\n",
    "fig.update_traces(textposition='outside')\n",
    "fig.update_layout(uniformtext_minsize=8, uniformtext_mode='hide')\n",
    "fig.show()"
   ]
  },
  {
   "cell_type": "markdown",
   "metadata": {},
   "source": [
    "### Mortality rate over time"
   ]
  },
  {
   "cell_type": "code",
   "execution_count": null,
   "metadata": {},
   "outputs": [],
   "source": [
    "fig = px.bar(df.sort_values('Mortality rate', ascending=False), x=\"Date\", y=\"Mortality rate\", color='State/UT', title='Mortality rate over time',\n",
    "             color_discrete_sequence = px.colors.qualitative.Vivid)\n",
    "fig.update_traces(textposition='outside')\n",
    "fig.update_layout(uniformtext_minsize=8, uniformtext_mode='hide')\n",
    "fig.show()"
   ]
  },
  {
   "cell_type": "markdown",
   "metadata": {},
   "source": [
    "### Recovery rate over time"
   ]
  },
  {
   "cell_type": "code",
   "execution_count": null,
   "metadata": {},
   "outputs": [],
   "source": [
    "fig = px.bar(df.sort_values('Recovery rate', ascending=False), x=\"Date\", y=\"Recovery rate\", color='State/UT', title='Recovery rate over time',\n",
    "             color_discrete_sequence = px.colors.qualitative.Vivid)\n",
    "fig.update_traces(textposition='outside')\n",
    "fig.update_layout(uniformtext_minsize=8, uniformtext_mode='hide')\n",
    "fig.show()"
   ]
  },
  {
   "cell_type": "markdown",
   "metadata": {},
   "source": [
    "### Detailed comparison of cases"
   ]
  },
  {
   "cell_type": "code",
   "execution_count": null,
   "metadata": {
    "_cell_guid": "42abea90-876d-4dbd-9752-72e79c33e482",
    "_uuid": "adfd7963-b783-4519-ae1a-2a2696239a71"
   },
   "outputs": [],
   "source": [
    "temp = latest.sort_values('Confirmed', ascending=True)\n",
    "\n",
    "fig = go.Figure(data=[\n",
    "    go.Bar(name='Active', y=temp['State/UT'], x=temp['Active'], orientation='h'),\n",
    "    go.Bar(name='Deaths', y=temp['State/UT'], x=temp['Deaths'], orientation='h'),\n",
    "    go.Bar(name='Cured', y=temp['State/UT'], x=temp['Cured'], orientation='h')\n",
    "])\n",
    "# Change the bar mode\n",
    "fig.update_layout(barmode='stack', height=900)\n",
    "fig.update_traces(textposition='outside')\n",
    "fig.update_layout(uniformtext_minsize=8, uniformtext_mode='hide')\n",
    "fig.show()"
   ]
  },
  {
   "cell_type": "markdown",
   "metadata": {},
   "source": [
    "### State cases treemap"
   ]
  },
  {
   "cell_type": "code",
   "execution_count": null,
   "metadata": {
    "_cell_guid": "6da36983-da81-46c3-a00f-81ce19f8171c",
    "_uuid": "9cfa39dc-65d0-4b1e-9dfc-1f82822f12cb"
   },
   "outputs": [],
   "source": [
    "fig = px.treemap(latest, path=[\"State/UT\"], values=\"Confirmed\", height=700,\n",
    "                 title='Number of confirmed cases from each states', color_discrete_sequence = px.colors.qualitative.Prism)\n",
    "fig.data[0].textinfo = 'label+text+value'\n",
    "fig.show()"
   ]
  },
  {
   "cell_type": "markdown",
   "metadata": {},
   "source": [
    "### Number of affected states and union teritorries over time"
   ]
  },
  {
   "cell_type": "code",
   "execution_count": null,
   "metadata": {
    "_cell_guid": "3a163e2b-6ee5-4e5c-afa9-96ed680df961",
    "_uuid": "6e49e6b2-ce92-439a-91ec-969296ca17c1"
   },
   "outputs": [],
   "source": [
    "no_of_states = df.groupby('Date')['State/UT'].unique().apply(len).values\n",
    "dates = df.groupby('Date')['State/UT'].unique().apply(len).index\n",
    "\n",
    "fig = go.Figure()\n",
    "\n",
    "fig.add_trace(go.Scatter(x=dates, y=[36 for i in range(len(no_of_states))], \n",
    "                         mode='lines', name='Total no. of States+UT', \n",
    "                         line = dict(color='#393e46', dash='dash')))\n",
    "\n",
    "fig.add_trace(go.Scatter(x=dates, y=no_of_states, hoverinfo='x+y',\n",
    "                         mode='lines', name='No. of affected States+UT', \n",
    "                         line = dict(color='#ff2e63')))\n",
    "\n",
    "fig.update_layout(title='No. of affected States / Union Territory', \n",
    "                  xaxis_title='Date', yaxis_title='No. of affected States / Union Territory')\n",
    "fig.update_traces(textposition='top center')\n",
    "fig.update_layout(uniformtext_minsize=8, uniformtext_mode='hide')\n",
    "fig.show()"
   ]
  },
  {
   "cell_type": "markdown",
   "metadata": {},
   "source": [
    "### Confirmed vs Deaths"
   ]
  },
  {
   "cell_type": "code",
   "execution_count": null,
   "metadata": {
    "_cell_guid": "01059621-2bf9-42ac-b2ee-406b92721b99",
    "_uuid": "72f82f68-5210-447b-8546-3b441f9928e9"
   },
   "outputs": [],
   "source": [
    "px.scatter(latest[latest['Confirmed']>10], x='Confirmed', y='Deaths', color='State/UT', size='Confirmed', \n",
    "           text='State/UT', log_x =True, title='Confirmed vs Death')"
   ]
  },
  {
   "cell_type": "markdown",
   "metadata": {},
   "source": [
    "### Confirmed vs Cured"
   ]
  },
  {
   "cell_type": "code",
   "execution_count": null,
   "metadata": {
    "_cell_guid": "9aa934b4-970b-436a-af76-2908f95e77c9",
    "_uuid": "96347ac8-7b06-4d6b-b776-5a0c5e6ef4af"
   },
   "outputs": [],
   "source": [
    "px.scatter(latest[latest['Confirmed']>10], x='Confirmed', y='Cured', color='State/UT', size='Confirmed', \n",
    "           text='State/UT', log_x =True, title='Confirmed vs Cured')"
   ]
  },
  {
   "cell_type": "markdown",
   "metadata": {},
   "source": [
    "### Confirmed vs Deaths vs Cured between states"
   ]
  },
  {
   "cell_type": "code",
   "execution_count": null,
   "metadata": {
    "_cell_guid": "6c5034bf-9c58-4df5-b426-f392582fc207",
    "_uuid": "40832369-aee3-4428-92cc-e5a65c126615"
   },
   "outputs": [],
   "source": [
    "px.scatter_3d(latest[latest['Confirmed']>10], x='Confirmed', y='Deaths', z='Cured', size='Confirmed', color='State/UT', \n",
    "              text='State/UT', title='Confirmed vs Deaths vs Cured')"
   ]
  },
  {
   "cell_type": "markdown",
   "metadata": {},
   "source": [
    "### Cases recorded over time"
   ]
  },
  {
   "cell_type": "code",
   "execution_count": null,
   "metadata": {
    "_cell_guid": "7905410d-7cac-4556-9ce6-66c0b947c97b",
    "_uuid": "3f46d06f-96b9-472f-92c2-50ddbfeb577f"
   },
   "outputs": [],
   "source": [
    "temp = df.groupby(['Date', 'State/UT'])['Confirmed'].sum()\n",
    "temp = temp.reset_index().sort_values(by=['Date', 'State/UT'])\n",
    "\n",
    "plt.style.use('seaborn')\n",
    "g = sns.FacetGrid(temp, col=\"State/UT\", hue=\"State/UT\", sharey=False, col_wrap=4)\n",
    "g = g.map(plt.plot, \"Date\", \"Confirmed\")\n",
    "g.set_xticklabels(rotation=90)\n",
    "plt.show()"
   ]
  },
  {
   "cell_type": "markdown",
   "metadata": {},
   "source": [
    "### Bar graph race of cases over time"
   ]
  },
  {
   "cell_type": "code",
   "execution_count": null,
   "metadata": {
    "_cell_guid": "cf542b07-cffa-45f5-9c3a-a81c1e2d396f",
    "_uuid": "4a2c4110-681f-4098-b6fb-e695864e8660"
   },
   "outputs": [],
   "source": [
    "temp = df.copy(deep=True)\n",
    "temp['Date'] = temp['Date'].dt.strftime('%Y-%m-%d')\n",
    "temp = temp.pivot(index='Date', columns='State/UT', values='Confirmed').fillna(0).astype('int').reset_index()\n",
    "temp = temp.melt(id_vars='Date', value_name='Confirmed')\n",
    "temp['Confirmed'] = temp['Confirmed'].astype('int')\n",
    "# temp = temp.sort_values('Total cases', ascending=False)\n",
    "temp.head()\n",
    "\n",
    "fig = px.bar(temp, y='State/UT', x='Confirmed', color='State/UT', orientation='h', \n",
    "             text='Confirmed', title='Over the time', animation_frame='Date', range_x=[0, 1500], height=1000)\n",
    "fig.update_layout(yaxis={'categoryorder':'array', \n",
    "                         'categoryarray':tuple(reversed(state_order.to_list()))})\n",
    "fig.show()"
   ]
  },
  {
   "cell_type": "markdown",
   "metadata": {},
   "source": [
    "# More data"
   ]
  },
  {
   "cell_type": "code",
   "execution_count": null,
   "metadata": {
    "_cell_guid": "dc2c1cbe-bb03-44fc-bf2e-36a7de761852",
    "_uuid": "fd20cfb2-d9fd-4aa5-85b4-bd564cc8146b"
   },
   "outputs": [],
   "source": [
    "!ls ../input/covid19-corona-virus-india-dataset"
   ]
  },
  {
   "cell_type": "code",
   "execution_count": null,
   "metadata": {
    "_cell_guid": "ad2efdce-d761-413f-8752-818ab9ad731b",
    "_uuid": "aed224cf-2c0c-45b8-8f0f-117c3863a47f"
   },
   "outputs": [],
   "source": [
    "p_df = pd.read_csv('../input/covid19-corona-virus-india-dataset/patients_data.csv')\n",
    "p_df.head(5)"
   ]
  },
  {
   "cell_type": "code",
   "execution_count": null,
   "metadata": {
    "_cell_guid": "1deba04d-14d2-49d9-9e7e-6c8658f20dda",
    "_uuid": "1f1953e6-90f2-4687-9a23-a79e2ed1ce95"
   },
   "outputs": [],
   "source": [
    "p_df['date_announced'] = pd.to_datetime(p_df['date_announced'], format='%d/%m/%Y')\n",
    "p_df['status_change_date'] = pd.to_datetime(p_df['status_change_date'], format='%d/%m/%Y')\n",
    "\n",
    "p_df['nationality'] = p_df['nationality'].replace('Indian', 'India')\n",
    "p_df.head()"
   ]
  },
  {
   "cell_type": "code",
   "execution_count": null,
   "metadata": {
    "_cell_guid": "a4daf836-24f3-4264-bbac-2b6adf167223",
    "_uuid": "10ea48a8-d125-4839-b511-fcc2cacd7d6a"
   },
   "outputs": [],
   "source": [
    "print(p_df.shape, '\\n')\n",
    "print(p_df.isna().sum())"
   ]
  },
  {
   "cell_type": "code",
   "execution_count": null,
   "metadata": {
    "_cell_guid": "8ca2d9aa-6be4-45fa-b2f3-60997a8471c9",
    "_uuid": "f207ba43-682e-4eda-8021-e018e3918db0"
   },
   "outputs": [],
   "source": [
    "print(p_df['age_bracket'].isna().sum(), 'out of', p_df.shape[0], 'values are missing')\n",
    "px.histogram(p_df, x='age_bracket', color_discrete_sequence = ['#35495e'], nbins=50, title='Distribution of ages of confirmed patients')"
   ]
  },
  {
   "cell_type": "code",
   "execution_count": null,
   "metadata": {
    "_cell_guid": "e6bb81ab-5a80-40d6-98f5-d88237ef8b8d",
    "_uuid": "ccf3f96e-21a4-4d06-af32-7a202ac9fbbf"
   },
   "outputs": [],
   "source": [
    "fig = make_subplots(\n",
    "    rows=1, cols=2, column_widths=[0.7, 0.3],\n",
    "    subplot_titles = ['Gender vs Age', ''],\n",
    "    specs=[[{\"type\": \"histogram\"}, {\"type\": \"pie\"}]]\n",
    ")\n",
    "\n",
    "temp = p_df[['age_bracket', 'gender']].dropna()\n",
    "print('Total no. of values :', p_df.shape[0], '\\nNo. of missing values :', p_df.shape[0]-temp.shape[0], '\\nNo. of available values :', p_df.shape[0]-(p_df.shape[0]-temp.shape[0]))\n",
    "gen_grp = temp.groupby('gender').count()\n",
    "\n",
    "fig.add_trace(go.Histogram(x=temp[temp['gender']=='F']['age_bracket'], nbinsx=50, name='Female', marker_color='#6a0572'), 1, 1)\n",
    "fig.add_trace(go.Histogram(x=temp[temp['gender']=='M']['age_bracket'], nbinsx=50, name='Male', marker_color='#39065a'), 1, 1)\n",
    "\n",
    "fig.add_trace(go.Pie(values=gen_grp.values.reshape(-1).tolist(), labels=['Female', 'Male'], marker_colors = ['#6a0572', '#39065a']),1, 2)\n",
    "\n",
    "fig.update_layout(showlegend=False)\n",
    "fig.update_layout(barmode='stack')\n",
    "fig.data[2].textinfo = 'label+text+value+percent'\n",
    "\n",
    "fig.show()"
   ]
  },
  {
   "cell_type": "code",
   "execution_count": null,
   "metadata": {
    "_cell_guid": "1435dd8f-1e3e-4f49-90ab-3121d6fa00bd",
    "_uuid": "aebdcd75-c527-40af-8701-9ad2b20f4593"
   },
   "outputs": [],
   "source": [
    "fig = make_subplots(\n",
    "    rows=1, cols=2, column_widths=[0.7, 0.3],\n",
    "    subplot_titles = ['Cases vs Age', ''],\n",
    "    specs=[[{\"type\": \"histogram\"}, {\"type\": \"pie\"}]]\n",
    ")\n",
    "\n",
    "temp = p_df[['age_bracket', 'current_status']].dropna()\n",
    "print('Total no. of values :', p_df.shape[0], '\\nNo. of missing values :', p_df.shape[0]-temp.shape[0], '\\nNo. of available values :', p_df.shape[0]-(p_df.shape[0]-temp.shape[0]))\n",
    "gen_grp = temp.groupby('current_status').count()\n",
    "\n",
    "fig.add_trace(go.Pie(values=gen_grp.values.reshape(-1).tolist(), labels=['Deceased', 'Hospitalized', 'Recovered'], \n",
    "                     marker_colors = ['#fd0054', '#393e46', '#40a798'], hole=.3),1, 2)\n",
    "\n",
    "fig.add_trace(go.Histogram(x=temp[temp['current_status']=='Deceased']['age_bracket'], nbinsx=50, name='Deceased', marker_color='#fd0054'), 1, 1)\n",
    "fig.add_trace(go.Histogram(x=temp[temp['current_status']=='Recovered']['age_bracket'], nbinsx=50, name='Recovered', marker_color='#40a798'), 1, 1)\n",
    "fig.add_trace(go.Histogram(x=temp[temp['current_status']=='Hospitalized']['age_bracket'], nbinsx=50, name='Hospitalized', marker_color='#393e46'), 1, 1)\n",
    "\n",
    "fig.update_layout(showlegend=False)\n",
    "fig.update_layout(barmode='stack')\n",
    "fig.data[0].textinfo = 'label+text+value+percent'\n",
    "\n",
    "fig.show()"
   ]
  },
  {
   "cell_type": "code",
   "execution_count": null,
   "metadata": {
    "_cell_guid": "72b5c7a2-9289-4369-978d-3dfbcf4c70f3",
    "_uuid": "237ec733-142d-41d6-871e-24c9021639ab"
   },
   "outputs": [],
   "source": [
    "print(p_df['current_status'].isna().sum(), 'out of', p_df.shape[0], 'values are missing')\n",
    "fig = px.pie(p_df['current_status'].dropna(), 'current_status', \n",
    "             color_discrete_sequence =  ['#005691','#21bf73','#ff4d4d', '#3bb4c1'],\n",
    "            title='Proportion of cases')\n",
    "fig.data[0].textinfo = 'label+text+value+percent'\n",
    "fig.show()\n",
    "\n",
    "temp = p_df[['age_bracket', 'current_status']].dropna()\n",
    "fig = px.histogram(temp, x='age_bracket', color='current_status', nbins=50, \n",
    "                   category_orders = {'current_status': ['Deceased', 'Recovered', 'Hospitalized', 'Migrated']},\n",
    "                   color_discrete_sequence = ['#ff4d4d', '#21bf73', '#005691', '#3bb4c1'],\n",
    "                  title='Distribution of ages of different cases of patients')\n",
    "fig.show()"
   ]
  },
  {
   "cell_type": "code",
   "execution_count": null,
   "metadata": {
    "_cell_guid": "039373f7-0993-4022-bc8c-61b32208ed26",
    "_uuid": "b0e828ac-38c7-4a50-8c2f-417cc5547d17"
   },
   "outputs": [],
   "source": [
    "temp = pd.DataFrame(p_df[['type_of_transmission']].groupby('type_of_transmission')['type_of_transmission'].count())\n",
    "temp.columns = ['count']\n",
    "temp = temp.reset_index().sort_values(by='count')\n",
    "fig = px.bar(temp, x='count', y='type_of_transmission', orientation='h', text='count', width=600, height=300,\n",
    "       color_discrete_sequence = ['#35495e'], title='Type of transmission')\n",
    "fig.update_xaxes(title='')\n",
    "fig.update_yaxes(title='')\n",
    "fig.show()"
   ]
  },
  {
   "cell_type": "code",
   "execution_count": null,
   "metadata": {
    "_cell_guid": "bbbdfcba-57b8-4d9b-aaf0-95ea0a40e5e9",
    "_uuid": "4fac4a33-58a9-4f35-babd-e5f1ae571d47"
   },
   "outputs": [],
   "source": [
    "temp = p_df.groupby('nationality')['patient_number'].count().reset_index()\n",
    "temp = temp.sort_values('patient_number')\n",
    "temp = temp[temp['nationality']!='India']\n",
    "fig = px.bar(temp, x='patient_number', y='nationality', orientation='h', text='patient_number', width=600,\n",
    "       color_discrete_sequence = ['#35495e'], title='No. of foreign citizens')\n",
    "fig.update_xaxes(title='')\n",
    "fig.update_yaxes(title='')\n",
    "fig.show()"
   ]
  },
  {
   "cell_type": "code",
   "execution_count": null,
   "metadata": {
    "_cell_guid": "2bf20a9b-04c2-47e5-8886-3131b4fbc80b",
    "_uuid": "dda7ddd7-a823-4354-ae67-59984299f45d"
   },
   "outputs": [],
   "source": [
    "dist = p_df.groupby(['detected_state', 'detected_district'])['patient_number'].count().reset_index()\n",
    "dist.head()\n",
    "fig = px.treemap(dist, path=[\"detected_state\", \"detected_district\"], values=\"patient_number\", height=700,\n",
    "           title='Number of Confirmed Cases', color_discrete_sequence = px.colors.qualitative.Prism)\n",
    "fig.data[0].textinfo = 'label+text+value'\n",
    "fig.show()"
   ]
  },
  {
   "cell_type": "code",
   "execution_count": null,
   "metadata": {
    "_cell_guid": "fe094b2b-392c-4bc4-9936-dde1136bf427",
    "_uuid": "30a07079-7086-454a-83bb-548bf1d4fd47"
   },
   "outputs": [],
   "source": [
    "temp = p_df[['date_announced', 'status_change_date', 'current_status']].dropna()\n",
    "temp = temp[temp['status_change_date']!=temp['date_announced']]\n",
    "temp['no_of_days'] = temp['status_change_date'] - temp['date_announced']\n",
    "temp['no_of_days'] = temp['no_of_days'].dt.days\n",
    "temp.head()"
   ]
  },
  {
   "cell_type": "code",
   "execution_count": null,
   "metadata": {
    "_cell_guid": "0ff77cd3-5e79-4b53-88e2-0f87e3fe0185",
    "_uuid": "88e3e19e-a833-4765-b845-7beb86842fe3"
   },
   "outputs": [],
   "source": [
    "print('Total no. of values :', p_df.shape[0], '\\nNo. of missing values :', p_df.shape[0]-temp.shape[0], '\\nNo. of available values :', p_df.shape[0]-(p_df.shape[0]-temp.shape[0]))\n",
    "px.box(temp, x=\"current_status\", y=\"no_of_days\", color='current_status')"
   ]
  },
  {
   "cell_type": "code",
   "execution_count": null,
   "metadata": {
    "_cell_guid": "a2679e77-43df-488b-a99e-942a14fe5aa3",
    "_uuid": "58a716b6-7d75-4f84-bae2-f8b3fbb5f912"
   },
   "outputs": [],
   "source": [
    "p_df['notes'].value_counts()"
   ]
  },
  {
   "cell_type": "code",
   "execution_count": null,
   "metadata": {
    "_cell_guid": "e83599ed-e263-444c-bc29-80dd54e7e426",
    "_uuid": "e6b165f6-5b24-4e4c-b4e2-6eb6e656f5eb"
   },
   "outputs": [],
   "source": [
    "p_df['notes'] = p_df['notes'].replace('Details Awaited', 'Details awaited')\n",
    "p_df['notes'] = p_df['notes'].replace('Travelled from Dubai, UAE', 'Travelled from Dubai')\n",
    "p_df['notes'] = p_df['notes'].replace('attended religious event Tablighi Jamaat in delhi', 'Attended Delhi Religious Conference')\n",
    "p_df['notes'] = p_df['notes'].replace('Travelled from London', 'Travelled from UK')\n",
    "p_df['notes'] = p_df['notes'].replace('Travelled from Dubai.', 'Travelled from Dubai')\n",
    "\n",
    "\n",
    "temp = pd.DataFrame(p_df.groupby('notes')['notes'].count().sort_values(ascending=False))\n",
    "temp.columns = ['count']\n",
    "temp = temp.reset_index()\n",
    "temp = temp[temp['notes']!='Details awaited']\n",
    "\n",
    "print('Total no. of values :', p_df.shape[0], '\\nNo. of missing values :', p_df.shape[0]-temp.shape[0], '\\nNo. of available values :', p_df.shape[0]-(p_df.shape[0]-temp.shape[0]))\n",
    "\n",
    "temp.head(10)\n",
    "\n",
    "fig = px.bar(temp.head(10).sort_values('count', ascending=True), x='count', y='notes', orientation='h', text='count', width=600,\n",
    "       color_discrete_sequence = ['#35495e'], title='Mining cases notes')\n",
    "fig.update_xaxes(title='')\n",
    "fig.update_yaxes(title='')"
   ]
  },
  {
   "cell_type": "code",
   "execution_count": null,
   "metadata": {
    "_cell_guid": "c53f394d-6dab-4bac-bf71-5806f7822d30",
    "_uuid": "dcd7cb57-a152-4cc8-be75-36e6c338b3e3"
   },
   "outputs": [],
   "source": [
    "p_df['notes'].str.contains('Travelled from')"
   ]
  },
  {
   "cell_type": "code",
   "execution_count": null,
   "metadata": {
    "_cell_guid": "1c9f5ee8-3060-4c60-aba7-9a5fc2d29bf3",
    "_uuid": "0c227b7e-dc33-49fb-9d4e-29e4d7b5f269"
   },
   "outputs": [],
   "source": [
    "temp = p_df[~p_df['notes'].str.contains('Travelled from').isna()]\n",
    "temp = temp[temp['notes'].str.contains('Travelled from')]\n",
    "temp['notes'] = temp['notes'].str.replace('Travelled from ', '')\n",
    "temp = temp.groupby('notes')['notes'].count().sort_values(ascending=False)\n",
    "temp = pd.DataFrame(temp)\n",
    "# temp.shape\n",
    "temp.head(20)\n",
    "# temp['notes'][2067]"
   ]
  }
 ],
 "metadata": {
  "kernelspec": {
   "display_name": "Python 3",
   "language": "python",
   "name": "python3"
  },
  "language_info": {
   "codemirror_mode": {
    "name": "ipython",
    "version": 3
   },
   "file_extension": ".py",
   "mimetype": "text/x-python",
   "name": "python",
   "nbconvert_exporter": "python",
   "pygments_lexer": "ipython3",
   "version": "3.7.6"
  }
 },
 "nbformat": 4,
 "nbformat_minor": 4
}
