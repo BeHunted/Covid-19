{
 "cells": [
  {
   "cell_type": "code",
   "execution_count": 1,
   "metadata": {
    "_cell_guid": "b1076dfc-b9ad-4769-8c92-a6c4dae69d19",
    "_uuid": "8f2839f25d086af736a60e9eeb907d3b93b6e0e5"
   },
   "outputs": [
    {
     "data": {
      "text/html": [
       "<div class=\"flourish-embed flourish-cards\" data-src=\"visualisation/1786965\" data-url=\"https://flo.uri.sh/visualisation/1786965/embed\"><script src=\"https://public.flourish.studio/resources/embed.js\"></script></div>"
      ],
      "text/plain": [
       "<IPython.core.display.HTML object>"
      ]
     },
     "execution_count": 1,
     "metadata": {},
     "output_type": "execute_result"
    }
   ],
   "source": [
    "from IPython.core.display import HTML\n",
    "HTML('''<div class=\"flourish-embed flourish-cards\" data-src=\"visualisation/1786965\" data-url=\"https://flo.uri.sh/visualisation/1786965/embed\"><script src=\"https://public.flourish.studio/resources/embed.js\"></script></div>''')\n"
   ]
  },
  {
   "cell_type": "code",
   "execution_count": 2,
   "metadata": {
    "_cell_guid": "79c7e3d0-c299-4dcb-8224-4455121ee9b0",
    "_uuid": "d629ff2d2480ee46fbb7e2d37f6b5fab8052498a"
   },
   "outputs": [
    {
     "ename": "ModuleNotFoundError",
     "evalue": "No module named 'geopandas'",
     "output_type": "error",
     "traceback": [
      "\u001b[1;31m---------------------------------------------------------------------------\u001b[0m",
      "\u001b[1;31mModuleNotFoundError\u001b[0m                       Traceback (most recent call last)",
      "\u001b[1;32m<ipython-input-2-51a474e0de56>\u001b[0m in \u001b[0;36m<module>\u001b[1;34m\u001b[0m\n\u001b[0;32m      5\u001b[0m \u001b[1;32mimport\u001b[0m \u001b[0mnumpy\u001b[0m \u001b[1;32mas\u001b[0m \u001b[0mnp\u001b[0m\u001b[1;33m\u001b[0m\u001b[1;33m\u001b[0m\u001b[0m\n\u001b[0;32m      6\u001b[0m \u001b[1;32mimport\u001b[0m \u001b[0mpandas\u001b[0m \u001b[1;32mas\u001b[0m \u001b[0mpd\u001b[0m\u001b[1;33m\u001b[0m\u001b[1;33m\u001b[0m\u001b[0m\n\u001b[1;32m----> 7\u001b[1;33m \u001b[1;32mimport\u001b[0m \u001b[0mgeopandas\u001b[0m \u001b[1;32mas\u001b[0m \u001b[0mgpd\u001b[0m\u001b[1;33m\u001b[0m\u001b[1;33m\u001b[0m\u001b[0m\n\u001b[0m\u001b[0;32m      8\u001b[0m \u001b[1;33m\u001b[0m\u001b[0m\n\u001b[0;32m      9\u001b[0m \u001b[1;32mimport\u001b[0m \u001b[0mmatplotlib\u001b[0m\u001b[1;33m.\u001b[0m\u001b[0mpyplot\u001b[0m \u001b[1;32mas\u001b[0m \u001b[0mplt\u001b[0m\u001b[1;33m\u001b[0m\u001b[1;33m\u001b[0m\u001b[0m\n",
      "\u001b[1;31mModuleNotFoundError\u001b[0m: No module named 'geopandas'"
     ]
    }
   ],
   "source": [
    "import json\n",
    "from datetime import timedelta\n",
    "from urllib.request import urlopen\n",
    "\n",
    "import numpy as np\n",
    "import pandas as pd\n",
    "import geopandas as gpd\n",
    "\n",
    "import matplotlib.pyplot as plt\n",
    "import seaborn as sns\n",
    "import plotly.express as px\n",
    "import plotly.graph_objects as go\n",
    "from plotly.subplots import make_subplots\n",
    "import folium\n",
    "\n",
    "cnf = '#393e46'\n",
    "dth = '#ff2e63'\n",
    "rec = '#21bf73'\n",
    "act = '#fe9801'\n",
    "\n",
    "from pandas.plotting import register_matplotlib_converters\n",
    "register_matplotlib_converters()\n"
   ]
  },
  {
   "cell_type": "code",
   "execution_count": null,
   "metadata": {},
   "outputs": [],
   "source": [
    "from plotly.offline import plot, iplot, init_notebook_mode\n",
    "init_notebook_mode(connected = True)"
   ]
  },
  {
   "cell_type": "code",
   "execution_count": null,
   "metadata": {},
   "outputs": [],
   "source": [
    "! ls ../input/covid19-corona-virus-india-dataset"
   ]
  },
  {
   "cell_type": "code",
   "execution_count": null,
   "metadata": {},
   "outputs": [],
   "source": [
    "# importing datasets\n",
    "df = pd.read_csv('../input/covid19-corona-virus-india-dataset/complete.csv', parse_dates=['Date'])\n",
    "df['Name of State / UT'] = df['Name of State / UT'].str.replace('Union Territory of ', '')\n",
    "df.head()"
   ]
  },
  {
   "cell_type": "code",
   "execution_count": null,
   "metadata": {},
   "outputs": [],
   "source": [
    "df.columns"
   ]
  },
  {
   "cell_type": "code",
   "execution_count": null,
   "metadata": {},
   "outputs": [],
   "source": [
    "df = df[['Date', 'Name of State / UT', 'Latitude', 'Longitude', 'Total Confirmed cases', 'Death', 'Cured/Discharged/Migrated']]\n",
    "df.columns = ['Date', 'State/UT', 'Latitude', 'Longitude', 'Confirmed', 'Deaths', 'Cured']\n",
    "\n",
    "for i in ['Confirmed', 'Deaths', 'Cured']:\n",
    "    df[i] = df[i].astype('int')\n",
    "    \n",
    "df['Active'] = df['Confirmed'] - df['Deaths'] - df['Cured']\n",
    "df['Mortality rate'] = df['Deaths']/df['Confirmed']\n",
    "df['Recovery rate'] = df['Cured']/df['Confirmed']\n",
    "\n",
    "df = df[['Date', 'State/UT', 'Latitude', 'Longitude', 'Confirmed', 'Active', 'Deaths', 'Mortality rate', 'Cured', 'Recovery rate']]\n",
    "\n",
    "df.head()\n"
   ]
  },
  {
   "cell_type": "code",
   "execution_count": null,
   "metadata": {},
   "outputs": [],
   "source": [
    "latest = df[df['Date']==max(df['Date'])]\n",
    "\n",
    "# days\n",
    "latest_day = max(df['Date'])\n",
    "day_before = latest_day - timedelta(days = 1)\n",
    "\n",
    "# state and total cases \n",
    "latest_day_df = df[df['Date']==latest_day].set_index('State/UT')\n",
    "day_before_df = df[df['Date']==day_before].set_index('State/UT')\n",
    "\n",
    "temp = pd.merge(left = latest_day_df, right = day_before_df, on='State/UT', suffixes=('_lat', '_bfr'), how='outer')\n",
    "latest_day_df['New cases'] = temp['Confirmed_lat'] - temp['Confirmed_bfr']\n",
    "latest = latest_day_df.reset_index()"
   ]
  },
  {
   "cell_type": "code",
   "execution_count": null,
   "metadata": {},
   "outputs": [],
   "source": [
    "print(latest_day, day_before)"
   ]
  },
  {
   "cell_type": "code",
   "execution_count": null,
   "metadata": {},
   "outputs": [],
   "source": [
    "temp = latest[['State/UT', 'Confirmed', 'Active', 'New cases', 'Deaths', 'Mortality rate',\n",
    "              'Cured', 'Recovery rate']]\n",
    "temp = temp.sort_values('Confirmed', ascending = False).reset_index(drop = True)\n",
    "\n",
    "temp.style\\\n",
    "    .background_gradient(cmap=\"Blues\", subset=['Confirmed', 'Active', 'New cases'])\\\n",
    "    .background_gradient(cmap=\"Greens\", subset=['Cured', 'Recovery rate'])\\\n",
    "    .background_gradient(cmap=\"Reds\", subset=['Deaths', 'Mortality rate'])"
   ]
  },
  {
   "cell_type": "code",
   "execution_count": null,
   "metadata": {},
   "outputs": [],
   "source": [
    "fig = make_subplots(rows=1, cols=2, shared_xaxes=False, column_widths=[0.4, 0.6],\n",
    "                    subplot_titles = ['Latest stats', 'Over the time'],\n",
    "                    specs=[[{\"type\": \"treemap\"}, {\"type\": \"bar\"}]])\n",
    "\n",
    "tm = temp.melt(id_vars=\"Date\", value_vars=['Active', 'Deaths', 'Cured'])\n",
    "fig_1 = px.treemap(tm, path=[\"variable\"], values=\"value\", height=540, width=800,\n",
    "                 color_discrete_sequence=[rec, act, dth])\n",
    "fig_1.data[0].textinfo = 'label+text+value'\n",
    "fig.add_trace(fig_1['data'][0], row=1, col=1)\n",
    "\n",
    "# fig.add_trace(go.Treemap(labels = tm['variable'], values = tm['value']),1,1)\n",
    "\n",
    "temp = df.groupby('Date')['Active', 'Deaths', 'Cured'].sum().reset_index()\n",
    "fig.add_trace(go.Bar(x=temp['Date'], y=temp['Active'], name='Active', marker_color=act), row=1, col=2)\n",
    "fig.add_trace(go.Bar(x=temp['Date'], y=temp['Deaths'], name='Deaths', marker_color=dth), row=1, col=2)\n",
    "fig.add_trace(go.Bar(x=temp['Date'], y=temp['Cured'], name='Cured', marker_color=rec), row=1, col=2)\n",
    "\n",
    "fig.update_layout(barmode='stack')\n",
    "fig.update_layout(treemapcolorway = [act, rec, dth])\n",
    "fig.show()"
   ]
  },
  {
   "cell_type": "code",
   "execution_count": null,
   "metadata": {},
   "outputs": [],
   "source": [
    "m = folium.Map(location = [20.5937, 78.9629], tiles = 'cartodbpositron',\n",
    "              min_zoom = 4, max_zoom = 6, zoom_start = 4)\n",
    "\n",
    "for i in range(0, len(latest)):\n",
    "    if latest.iloc[i]['Confirmed'] > 0:\n",
    "        folium.Circle(\n",
    "            location = [latest.iloc[i]['Latitude'], latest.iloc[i]\n",
    "                       ['Longitude']],\n",
    "            color = '#e84545',\n",
    "            fill = '#e84545',\n",
    "            tooltip = '<li><bold>Name of Sate / UT :' + str(latest.iloc[i]\n",
    "                        ['State/UT']) + \n",
    "                        '<li><bold>Confirmed cases :' + str(latest.iloc[i]\n",
    "                        ['Confirmed']),\n",
    "            radius = int(latest.iloc[i]['Confirmed'])*300\n",
    "        ).add_to(m)\n",
    "m"
   ]
  },
  {
   "cell_type": "code",
   "execution_count": null,
   "metadata": {},
   "outputs": [],
   "source": [
    "from plotly.offline import init_notebook_mode\n",
    "import plotly.graph_objs as go\n",
    "init_notebook_mode(connected=True)\n",
    "\n",
    "temp = df.copy()\n",
    "temp['Date'] = temp['Date'].dt.strftime('%Y/%m/%d')\n",
    "\n",
    "fig = px.scatter_geo(temp, lat=\"Latitude\", lon=\"Longitude\", color='Confirmed', size='Confirmed', projection=\"natural earth\",\n",
    "                     hover_name=\"State/UT\", scope='asia', animation_frame=\"Date\", center={'lat':20, 'lon':78}, \n",
    "                     range_color=[0, max(temp['Confirmed'])])\n",
    "fig.show()"
   ]
  },
  {
   "cell_type": "code",
   "execution_count": null,
   "metadata": {},
   "outputs": [],
   "source": [
    "temp = latest.sort_values('Confirmed', ascending=False)\n",
    "state_order = temp['State/UT']\n",
    "\n",
    "fig = px.bar(temp, \n",
    "             x=\"Confirmed\", y=\"State/UT\", color='State/UT', title='Confirmed',\n",
    "             orientation='h', text='Confirmed', height=len(temp)*35,\n",
    "             color_discrete_sequence = px.colors.qualitative.Vivid)\n",
    "fig.show()"
   ]
  },
  {
   "cell_type": "code",
   "execution_count": null,
   "metadata": {},
   "outputs": [],
   "source": [
    "temp = latest[latest['Deaths']>0].sort_values('Deaths')\n",
    "fig_d = px.bar(temp, y=\"State/UT\", x=\"Deaths\", orientation='h', title='Deaths', color_discrete_sequence = ['#ff2e63'], text='Deaths', height=len(temp)*40)\n",
    "\n",
    "temp = latest[latest['Cured']>0].sort_values('Cured')\n",
    "fig_r = px.bar(temp, y=\"State/UT\", x=\"Cured\", orientation='h', title='Cured', color_discrete_sequence = ['#2c786c'], text='Cured', height=len(temp)*40)\n",
    "\n",
    "fig = make_subplots(rows=1, cols=2, shared_xaxes=False, horizontal_spacing=0.2, subplot_titles=(\"Deaths\", \"Recovered\"))\n",
    "fig.add_trace(fig_d['data'][0], row=1, col=1)\n",
    "fig.add_trace(fig_r['data'][0], row=1, col=2)\n",
    "fig.update_layout(height=800)\n",
    "fig.show()"
   ]
  },
  {
   "cell_type": "code",
   "execution_count": null,
   "metadata": {},
   "outputs": [],
   "source": [
    "fig = px.bar(df.sort_values('Confirmed', ascending=False), x=\"Date\", y=\"Confirmed\", color='State/UT', title='State wise cases over time',\n",
    "             color_discrete_sequence = px.colors.qualitative.Vivid)\n",
    "fig.update_traces(textposition='outside')\n",
    "fig.update_layout(uniformtext_minsize=8, uniformtext_mode='hide')\n",
    "fig.show()"
   ]
  },
  {
   "cell_type": "code",
   "execution_count": null,
   "metadata": {},
   "outputs": [],
   "source": [
    "temp = latest.sort_values('Confirmed', ascending=True)\n",
    "\n",
    "fig = go.Figure(data=[\n",
    "    go.Bar(name='Active', y=temp['State/UT'], x=temp['Active'], orientation='h'),\n",
    "    go.Bar(name='Deaths', y=temp['State/UT'], x=temp['Deaths'], orientation='h'),\n",
    "    go.Bar(name='Cured', y=temp['State/UT'], x=temp['Cured'], orientation='h')\n",
    "])\n",
    "# Change the bar mode\n",
    "fig.update_layout(barmode='stack', height=900)\n",
    "fig.update_traces(textposition='outside')\n",
    "fig.update_layout(uniformtext_minsize=8, uniformtext_mode='hide')\n",
    "fig.show()"
   ]
  },
  {
   "cell_type": "code",
   "execution_count": null,
   "metadata": {},
   "outputs": [],
   "source": [
    "fig = px.treemap(latest, path=[\"State/UT\"], values=\"Confirmed\", height=700,\n",
    "                 title='Number of confirmed cases from each states', color_discrete_sequence = px.colors.qualitative.Prism)\n",
    "fig.data[0].textinfo = 'label+text+value'\n",
    "fig.show()"
   ]
  },
  {
   "cell_type": "code",
   "execution_count": null,
   "metadata": {},
   "outputs": [],
   "source": [
    "no_of_states = df.groupby('Date')['State/UT'].unique().apply(len).values\n",
    "dates = df.groupby('Date')['State/UT'].unique().apply(len).index\n",
    "\n",
    "fig = go.Figure()\n",
    "\n",
    "fig.add_trace(go.Scatter(x=dates, y=[36 for i in range(len(no_of_states))], \n",
    "                         mode='lines', name='Total no. of States+UT', \n",
    "                         line = dict(color='#393e46', dash='dash')))\n",
    "\n",
    "fig.add_trace(go.Scatter(x=dates, y=no_of_states, hoverinfo='x+y',\n",
    "                         mode='lines', name='No. of affected States+UT', \n",
    "                         line = dict(color='#ff2e63')))\n",
    "\n",
    "fig.update_layout(title='No. of affected States / Union Territory', \n",
    "                  xaxis_title='Date', yaxis_title='No. of affected States / Union Territory')\n",
    "fig.update_traces(textposition='top center')\n",
    "fig.update_layout(uniformtext_minsize=8, uniformtext_mode='hide')\n",
    "fig.show()"
   ]
  },
  {
   "cell_type": "code",
   "execution_count": null,
   "metadata": {},
   "outputs": [],
   "source": [
    "px.scatter(latest[latest['Confirmed']>10], x='Confirmed', y='Deaths', color='State/UT', size='Confirmed', \n",
    "           text='State/UT', log_x =True, title='Confirmed vs Death')"
   ]
  },
  {
   "cell_type": "code",
   "execution_count": null,
   "metadata": {},
   "outputs": [],
   "source": [
    "px.scatter(latest[latest['Confirmed']>10], x='Confirmed', y='Cured', color='State/UT', size='Confirmed', \n",
    "           text='State/UT', log_x =True, title='Confirmed vs Cured')"
   ]
  },
  {
   "cell_type": "code",
   "execution_count": null,
   "metadata": {},
   "outputs": [],
   "source": [
    "px.scatter_3d(latest[latest['Confirmed']>10], x='Confirmed', y='Deaths', z='Cured', size='Confirmed', color='State/UT', \n",
    "              text='State/UT', title='Confirmed vs Deaths vs Cured')"
   ]
  },
  {
   "cell_type": "code",
   "execution_count": null,
   "metadata": {},
   "outputs": [],
   "source": [
    "temp = df.groupby(['Date', 'State/UT'])['Confirmed'].sum()\n",
    "temp = temp.reset_index().sort_values(by=['Date', 'State/UT'])\n",
    "\n",
    "plt.style.use('seaborn')\n",
    "g = sns.FacetGrid(temp, col=\"State/UT\", hue=\"State/UT\", sharey=False, col_wrap=4)\n",
    "g = g.map(plt.plot, \"Date\", \"Confirmed\")\n",
    "g.set_xticklabels(rotation=90)\n",
    "plt.show()"
   ]
  },
  {
   "cell_type": "code",
   "execution_count": null,
   "metadata": {},
   "outputs": [],
   "source": [
    "temp = df.copy(deep=True)\n",
    "temp['Date'] = temp['Date'].dt.strftime('%Y-%m-%d')\n",
    "temp = temp.pivot(index='Date', columns='State/UT', values='Confirmed').fillna(0).astype('int').reset_index()\n",
    "temp = temp.melt(id_vars='Date', value_name='Confirmed')\n",
    "temp['Confirmed'] = temp['Confirmed'].astype('int')\n",
    "# temp = temp.sort_values('Total cases', ascending=False)\n",
    "temp.head()\n",
    "\n",
    "fig = px.bar(temp, y='State/UT', x='Confirmed', color='State/UT', orientation='h', \n",
    "             text='Confirmed', title='Over the time', animation_frame='Date', range_x=[0, 200], height=1000)\n",
    "fig.update_layout(yaxis={'categoryorder':'array', \n",
    "                         'categoryarray':tuple(reversed(state_order.to_list()))})\n",
    "fig.show()"
   ]
  },
  {
   "cell_type": "code",
   "execution_count": null,
   "metadata": {},
   "outputs": [],
   "source": [
    "!ls ../input/covid19-corona-virus-india-dataset "
   ]
  },
  {
   "cell_type": "code",
   "execution_count": null,
   "metadata": {},
   "outputs": [],
   "source": [
    "p_df = pd.read_csv('../input/covid19-corona-virus-india-dataset/patients_data.csv')\n",
    "p_df.head(5)"
   ]
  },
  {
   "cell_type": "code",
   "execution_count": null,
   "metadata": {},
   "outputs": [],
   "source": [
    "p_df['date_announced'] = pd.to_datetime(p_df['date_announced'], format='%d/%m/%Y')\n",
    "p_df['status_change_date'] = pd.to_datetime(p_df['status_change_date'], format='%d/%m/%Y')\n",
    "\n",
    "p_df['nationality'] = p_df['nationality'].replace('Indian', 'India')\n",
    "p_df.head()"
   ]
  },
  {
   "cell_type": "code",
   "execution_count": null,
   "metadata": {},
   "outputs": [],
   "source": [
    "print(p_df.shape, '\\n')\n",
    "print(p_df.isna().sum())"
   ]
  },
  {
   "cell_type": "code",
   "execution_count": null,
   "metadata": {},
   "outputs": [],
   "source": [
    "print(p_df['age_bracket'].isna().sum(), 'out of', p_df.shape[0], 'values are missing')\n",
    "px.histogram(p_df, x='age_bracket', color_discrete_sequence = ['#35495e'], nbins=50, title='Distribution of ages of confirmed patients')"
   ]
  },
  {
   "cell_type": "code",
   "execution_count": null,
   "metadata": {},
   "outputs": [],
   "source": [
    "fig = make_subplots(\n",
    "    rows=1, cols=2, column_widths=[0.7, 0.3],\n",
    "    subplot_titles = ['Gender vs Age', ''],\n",
    "    specs=[[{\"type\": \"histogram\"}, {\"type\": \"pie\"}]]\n",
    ")\n",
    "\n",
    "temp = p_df[['age_bracket', 'gender']].dropna()\n",
    "print('Total no. of values :', p_df.shape[0], '\\nNo. of missing values :', p_df.shape[0]-temp.shape[0], '\\nNo. of available values :', p_df.shape[0]-(p_df.shape[0]-temp.shape[0]))\n",
    "gen_grp = temp.groupby('gender').count()\n",
    "\n",
    "fig.add_trace(go.Histogram(x=temp[temp['gender']=='F']['age_bracket'], nbinsx=50, name='Female', marker_color='#6a0572'), 1, 1)\n",
    "fig.add_trace(go.Histogram(x=temp[temp['gender']=='M']['age_bracket'], nbinsx=50, name='Male', marker_color='#39065a'), 1, 1)\n",
    "\n",
    "fig.add_trace(go.Pie(values=gen_grp.values.reshape(-1).tolist(), labels=['Female', 'Male'], marker_colors = ['#6a0572', '#39065a']),1, 2)\n",
    "\n",
    "fig.update_layout(showlegend=False)\n",
    "fig.update_layout(barmode='stack')\n",
    "fig.data[2].textinfo = 'label+text+value+percent'\n",
    "\n",
    "fig.show()"
   ]
  },
  {
   "cell_type": "code",
   "execution_count": null,
   "metadata": {},
   "outputs": [],
   "source": [
    "fig = make_subplots(\n",
    "    rows=1, cols=2, column_widths=[0.7, 0.3],\n",
    "    subplot_titles = ['Cases vs Age', ''],\n",
    "    specs=[[{\"type\": \"histogram\"}, {\"type\": \"pie\"}]]\n",
    ")\n",
    "\n",
    "temp = p_df[['age_bracket', 'current_status']].dropna()\n",
    "print('Total no. of values :', p_df.shape[0], '\\nNo. of missing values :', p_df.shape[0]-temp.shape[0], '\\nNo. of available values :', p_df.shape[0]-(p_df.shape[0]-temp.shape[0]))\n",
    "gen_grp = temp.groupby('current_status').count()\n",
    "\n",
    "fig.add_trace(go.Pie(values=gen_grp.values.reshape(-1).tolist(), labels=['Deceased', 'Hospitalized', 'Recovered'], \n",
    "                     marker_colors = ['#fd0054', '#393e46', '#40a798'], hole=.3),1, 2)\n",
    "\n",
    "fig.add_trace(go.Histogram(x=temp[temp['current_status']=='Deceased']['age_bracket'], nbinsx=50, name='Deceased', marker_color='#fd0054'), 1, 1)\n",
    "fig.add_trace(go.Histogram(x=temp[temp['current_status']=='Recovered']['age_bracket'], nbinsx=50, name='Recovered', marker_color='#40a798'), 1, 1)\n",
    "fig.add_trace(go.Histogram(x=temp[temp['current_status']=='Hospitalized']['age_bracket'], nbinsx=50, name='Hospitalized', marker_color='#393e46'), 1, 1)\n",
    "\n",
    "fig.update_layout(showlegend=False)\n",
    "fig.update_layout(barmode='stack')\n",
    "fig.data[0].textinfo = 'label+text+value+percent'\n",
    "\n",
    "fig.show()"
   ]
  },
  {
   "cell_type": "code",
   "execution_count": null,
   "metadata": {},
   "outputs": [],
   "source": [
    "print(p_df['current_status'].isna().sum(), 'out of', p_df.shape[0], 'values are missing')\n",
    "fig = px.pie(p_df['current_status'].dropna(), 'current_status', \n",
    "             color_discrete_sequence =  ['#005691','#21bf73','#ff4d4d', '#3bb4c1'],\n",
    "            title='Proportion of cases')\n",
    "fig.data[0].textinfo = 'label+text+value+percent'\n",
    "fig.show()\n",
    "\n",
    "temp = p_df[['age_bracket', 'current_status']].dropna()\n",
    "fig = px.histogram(temp, x='age_bracket', color='current_status', nbins=50, \n",
    "                   category_orders = {'current_status': ['Deceased', 'Recovered', 'Hospitalized', 'Migrated']},\n",
    "                   color_discrete_sequence = ['#ff4d4d', '#21bf73', '#005691', '#3bb4c1'],\n",
    "                  title='Distribution of ages of different cases of patients')\n",
    "fig.show()"
   ]
  },
  {
   "cell_type": "code",
   "execution_count": null,
   "metadata": {},
   "outputs": [],
   "source": [
    "temp = pd.DataFrame(p_df[['type_of_transmission']].groupby('type_of_transmission')['type_of_transmission'].count())\n",
    "temp.columns = ['count']\n",
    "temp = temp.reset_index().sort_values(by='count')\n",
    "fig = px.bar(temp, x='count', y='type_of_transmission', orientation='h', text='count', width=600, height=300,\n",
    "       color_discrete_sequence = ['#35495e'], title='Type of transmission')\n",
    "fig.update_xaxes(title='')\n",
    "fig.update_yaxes(title='')\n",
    "fig.show()"
   ]
  },
  {
   "cell_type": "code",
   "execution_count": null,
   "metadata": {},
   "outputs": [],
   "source": [
    "temp = p_df.groupby('nationality')['patient_number'].count().reset_index()\n",
    "temp = temp.sort_values('patient_number')\n",
    "temp = temp[temp['nationality']!='India']\n",
    "fig = px.bar(temp, x='patient_number', y='nationality', orientation='h', text='patient_number', width=600,\n",
    "       color_discrete_sequence = ['#35495e'], title='No. of foreign citizens')\n",
    "fig.update_xaxes(title='')\n",
    "fig.update_yaxes(title='')\n",
    "fig.show()"
   ]
  },
  {
   "cell_type": "code",
   "execution_count": null,
   "metadata": {},
   "outputs": [],
   "source": [
    "dist = p_df.groupby(['detected_state', 'detected_district'])['patient_number'].count().reset_index()\n",
    "dist.head()\n",
    "fig = px.treemap(dist, path=[\"detected_state\", \"detected_district\"], values=\"patient_number\", height=700,\n",
    "           title='Number of Confirmed Cases', color_discrete_sequence = px.colors.qualitative.Prism)\n",
    "fig.data[0].textinfo = 'label+text+value'\n",
    "fig.show()"
   ]
  },
  {
   "cell_type": "code",
   "execution_count": null,
   "metadata": {},
   "outputs": [],
   "source": [
    "temp = p_df[['date_announced', 'status_change_date', 'current_status']].dropna()\n",
    "temp = temp[temp['status_change_date']!=temp['date_announced']]\n",
    "temp['no_of_days'] = temp['status_change_date'] - temp['date_announced']\n",
    "temp['no_of_days'] = temp['no_of_days'].dt.days\n",
    "temp.head()"
   ]
  },
  {
   "cell_type": "code",
   "execution_count": null,
   "metadata": {},
   "outputs": [],
   "source": [
    "print('Total no. of values :', p_df.shape[0], '\\nNo. of missing values :', p_df.shape[0]-temp.shape[0], '\\nNo. of available values :', p_df.shape[0]-(p_df.shape[0]-temp.shape[0]))\n",
    "px.box(temp, x=\"current_status\", y=\"no_of_days\", color='current_status')"
   ]
  },
  {
   "cell_type": "code",
   "execution_count": null,
   "metadata": {},
   "outputs": [],
   "source": [
    "p_df['notes'].value_counts()"
   ]
  },
  {
   "cell_type": "code",
   "execution_count": null,
   "metadata": {},
   "outputs": [],
   "source": [
    "p_df['notes'] = p_df['notes'].replace('Details Awaited', 'Details awaited')\n",
    "p_df['notes'] = p_df['notes'].replace('Travelled from Dubai, UAE', 'Travelled from Dubai')\n",
    "p_df['notes'] = p_df['notes'].replace('attended religious event Tablighi Jamaat in delhi', 'Attended Delhi Religious Conference')\n",
    "p_df['notes'] = p_df['notes'].replace('Travelled from London', 'Travelled from UK')\n",
    "p_df['notes'] = p_df['notes'].replace('Travelled from Dubai.', 'Travelled from Dubai')\n",
    "\n",
    "\n",
    "temp = pd.DataFrame(p_df.groupby('notes')['notes'].count().sort_values(ascending=False))\n",
    "temp.columns = ['count']\n",
    "temp = temp.reset_index()\n",
    "temp = temp[temp['notes']!='Details awaited']\n",
    "\n",
    "print('Total no. of values :', p_df.shape[0], '\\nNo. of missing values :', p_df.shape[0]-temp.shape[0], '\\nNo. of available values :', p_df.shape[0]-(p_df.shape[0]-temp.shape[0]))\n",
    "\n",
    "temp.head(10)\n",
    "\n",
    "fig = px.bar(temp.head(10).sort_values('count', ascending=True), x='count', y='notes', orientation='h', text='count', width=600,\n",
    "       color_discrete_sequence = ['#35495e'], title='Mining cases notes')\n",
    "fig.update_xaxes(title='')\n",
    "fig.update_yaxes(title='')"
   ]
  },
  {
   "cell_type": "code",
   "execution_count": null,
   "metadata": {},
   "outputs": [],
   "source": [
    "p_df['notes'].str.contains('Travelled from')"
   ]
  },
  {
   "cell_type": "code",
   "execution_count": null,
   "metadata": {},
   "outputs": [],
   "source": [
    "temp = p_df[~p_df['notes'].str.contains('Travelled from').isna()]\n",
    "temp = temp[temp['notes'].str.contains('Travelled from')]\n",
    "temp['notes'] = temp['notes'].str.replace('Travelled from ', '')\n",
    "temp = temp.groupby('notes')['notes'].count().sort_values(ascending=False)\n",
    "temp = pd.DataFrame(temp)\n",
    "# temp.shape\n",
    "temp.head(20)\n",
    "# temp['notes'][2067]"
   ]
  }
 ],
 "metadata": {
  "kernelspec": {
   "display_name": "Python 3",
   "language": "python",
   "name": "python3"
  },
  "language_info": {
   "codemirror_mode": {
    "name": "ipython",
    "version": 3
   },
   "file_extension": ".py",
   "mimetype": "text/x-python",
   "name": "python",
   "nbconvert_exporter": "python",
   "pygments_lexer": "ipython3",
   "version": "3.7.6"
  }
 },
 "nbformat": 4,
 "nbformat_minor": 4
}
